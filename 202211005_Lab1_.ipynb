{
  "cells": [
    {
      "cell_type": "markdown",
      "id": "c256aba1",
      "metadata": {
        "id": "c256aba1"
      },
      "source": [
        "### Importing libraries and Dataset"
      ]
    },
    {
      "cell_type": "code",
      "execution_count": null,
      "id": "15a7bbc4",
      "metadata": {
        "id": "15a7bbc4"
      },
      "outputs": [],
      "source": [
        "import numpy as np\n",
        "import pandas as pd\n",
        "import matplotlib.pyplot as plt\n",
        "import seaborn as sb\n",
        "from array import array\n",
        "\n",
        "from sklearn.preprocessing import StandardScaler\n",
        "from sklearn.model_selection import train_test_split\n",
        "from sklearn import preprocessing\n",
        "\n",
        "from sklearn.metrics import mean_squared_error\n",
        "from sklearn.metrics import log_loss\n",
        "from sklearn.metrics import confusion_matrix\n",
        "\n",
        "# to compare our model's accuracy with sklearn model\n",
        "from sklearn.linear_model import LinearRegression\n",
        "from sklearn.linear_model import LogisticRegression"
      ]
    },
    {
      "cell_type": "code",
      "execution_count": null,
      "id": "ca6c07bc",
      "metadata": {
        "id": "ca6c07bc"
      },
      "outputs": [],
      "source": [
        "startup_data = pd.read_csv(r'50_Startups.csv')\n",
        "user_data = pd.read_csv(r'User_data.csv')"
      ]
    },
    {
      "cell_type": "markdown",
      "id": "9b5b354d",
      "metadata": {
        "id": "9b5b354d"
      },
      "source": [
        "## Startup Data"
      ]
    },
    {
      "cell_type": "code",
      "execution_count": null,
      "id": "8b57d1ba",
      "metadata": {
        "scrolled": true,
        "id": "8b57d1ba",
        "outputId": "f6fe0812-d261-4787-a9e2-8944f6572581"
      },
      "outputs": [
        {
          "data": {
            "text/html": [
              "<div>\n",
              "<style scoped>\n",
              "    .dataframe tbody tr th:only-of-type {\n",
              "        vertical-align: middle;\n",
              "    }\n",
              "\n",
              "    .dataframe tbody tr th {\n",
              "        vertical-align: top;\n",
              "    }\n",
              "\n",
              "    .dataframe thead th {\n",
              "        text-align: right;\n",
              "    }\n",
              "</style>\n",
              "<table border=\"1\" class=\"dataframe\">\n",
              "  <thead>\n",
              "    <tr style=\"text-align: right;\">\n",
              "      <th></th>\n",
              "      <th>R&amp;D Spend</th>\n",
              "      <th>Administration</th>\n",
              "      <th>Marketing Spend</th>\n",
              "      <th>State</th>\n",
              "      <th>Profit</th>\n",
              "    </tr>\n",
              "  </thead>\n",
              "  <tbody>\n",
              "    <tr>\n",
              "      <th>0</th>\n",
              "      <td>165349.20</td>\n",
              "      <td>136897.80</td>\n",
              "      <td>471784.10</td>\n",
              "      <td>New York</td>\n",
              "      <td>192261.83</td>\n",
              "    </tr>\n",
              "    <tr>\n",
              "      <th>1</th>\n",
              "      <td>162597.70</td>\n",
              "      <td>151377.59</td>\n",
              "      <td>443898.53</td>\n",
              "      <td>California</td>\n",
              "      <td>191792.06</td>\n",
              "    </tr>\n",
              "    <tr>\n",
              "      <th>2</th>\n",
              "      <td>153441.51</td>\n",
              "      <td>101145.55</td>\n",
              "      <td>407934.54</td>\n",
              "      <td>Florida</td>\n",
              "      <td>191050.39</td>\n",
              "    </tr>\n",
              "    <tr>\n",
              "      <th>3</th>\n",
              "      <td>144372.41</td>\n",
              "      <td>118671.85</td>\n",
              "      <td>383199.62</td>\n",
              "      <td>New York</td>\n",
              "      <td>182901.99</td>\n",
              "    </tr>\n",
              "    <tr>\n",
              "      <th>4</th>\n",
              "      <td>142107.34</td>\n",
              "      <td>91391.77</td>\n",
              "      <td>366168.42</td>\n",
              "      <td>Florida</td>\n",
              "      <td>166187.94</td>\n",
              "    </tr>\n",
              "  </tbody>\n",
              "</table>\n",
              "</div>"
            ],
            "text/plain": [
              "   R&D Spend  Administration  Marketing Spend       State     Profit\n",
              "0  165349.20       136897.80        471784.10    New York  192261.83\n",
              "1  162597.70       151377.59        443898.53  California  191792.06\n",
              "2  153441.51       101145.55        407934.54     Florida  191050.39\n",
              "3  144372.41       118671.85        383199.62    New York  182901.99\n",
              "4  142107.34        91391.77        366168.42     Florida  166187.94"
            ]
          },
          "execution_count": 3,
          "metadata": {},
          "output_type": "execute_result"
        }
      ],
      "source": [
        "startup_data.head()"
      ]
    },
    {
      "cell_type": "markdown",
      "id": "3bce3624",
      "metadata": {
        "id": "3bce3624"
      },
      "source": [
        "### Splitting the data into input and target classes"
      ]
    },
    {
      "cell_type": "code",
      "execution_count": null,
      "id": "09013064",
      "metadata": {
        "id": "09013064"
      },
      "outputs": [],
      "source": [
        "x_data = startup_data.drop('Profit', axis=1)\n",
        "y_data = startup_data['Profit']"
      ]
    },
    {
      "cell_type": "code",
      "execution_count": null,
      "id": "0e0c8d29",
      "metadata": {
        "id": "0e0c8d29",
        "outputId": "e5ea8ebb-5b35-45c8-b4e6-a7236fe5eeff"
      },
      "outputs": [
        {
          "data": {
            "text/html": [
              "<div>\n",
              "<style scoped>\n",
              "    .dataframe tbody tr th:only-of-type {\n",
              "        vertical-align: middle;\n",
              "    }\n",
              "\n",
              "    .dataframe tbody tr th {\n",
              "        vertical-align: top;\n",
              "    }\n",
              "\n",
              "    .dataframe thead th {\n",
              "        text-align: right;\n",
              "    }\n",
              "</style>\n",
              "<table border=\"1\" class=\"dataframe\">\n",
              "  <thead>\n",
              "    <tr style=\"text-align: right;\">\n",
              "      <th></th>\n",
              "      <th>R&amp;D Spend</th>\n",
              "      <th>Administration</th>\n",
              "      <th>Marketing Spend</th>\n",
              "      <th>State</th>\n",
              "    </tr>\n",
              "  </thead>\n",
              "  <tbody>\n",
              "    <tr>\n",
              "      <th>0</th>\n",
              "      <td>165349.20</td>\n",
              "      <td>136897.80</td>\n",
              "      <td>471784.10</td>\n",
              "      <td>New York</td>\n",
              "    </tr>\n",
              "    <tr>\n",
              "      <th>1</th>\n",
              "      <td>162597.70</td>\n",
              "      <td>151377.59</td>\n",
              "      <td>443898.53</td>\n",
              "      <td>California</td>\n",
              "    </tr>\n",
              "    <tr>\n",
              "      <th>2</th>\n",
              "      <td>153441.51</td>\n",
              "      <td>101145.55</td>\n",
              "      <td>407934.54</td>\n",
              "      <td>Florida</td>\n",
              "    </tr>\n",
              "    <tr>\n",
              "      <th>3</th>\n",
              "      <td>144372.41</td>\n",
              "      <td>118671.85</td>\n",
              "      <td>383199.62</td>\n",
              "      <td>New York</td>\n",
              "    </tr>\n",
              "    <tr>\n",
              "      <th>4</th>\n",
              "      <td>142107.34</td>\n",
              "      <td>91391.77</td>\n",
              "      <td>366168.42</td>\n",
              "      <td>Florida</td>\n",
              "    </tr>\n",
              "  </tbody>\n",
              "</table>\n",
              "</div>"
            ],
            "text/plain": [
              "   R&D Spend  Administration  Marketing Spend       State\n",
              "0  165349.20       136897.80        471784.10    New York\n",
              "1  162597.70       151377.59        443898.53  California\n",
              "2  153441.51       101145.55        407934.54     Florida\n",
              "3  144372.41       118671.85        383199.62    New York\n",
              "4  142107.34        91391.77        366168.42     Florida"
            ]
          },
          "execution_count": 5,
          "metadata": {},
          "output_type": "execute_result"
        }
      ],
      "source": [
        "# type(x_data)\n",
        "x_data.head()"
      ]
    },
    {
      "cell_type": "code",
      "execution_count": null,
      "id": "1529954f",
      "metadata": {
        "id": "1529954f",
        "outputId": "aebd69a3-af1e-4539-fd2c-dace9c918ff6"
      },
      "outputs": [
        {
          "data": {
            "text/plain": [
              "0    192261.83\n",
              "1    191792.06\n",
              "2    191050.39\n",
              "3    182901.99\n",
              "4    166187.94\n",
              "Name: Profit, dtype: float64"
            ]
          },
          "execution_count": 6,
          "metadata": {},
          "output_type": "execute_result"
        }
      ],
      "source": [
        "# type(y_data)\n",
        "y_data.head()"
      ]
    },
    {
      "cell_type": "code",
      "execution_count": null,
      "id": "0dffcfee",
      "metadata": {
        "id": "0dffcfee"
      },
      "outputs": [],
      "source": [
        "# type(y_data)\n",
        "y_data = y_data.to_numpy()"
      ]
    },
    {
      "cell_type": "markdown",
      "id": "61fa9428",
      "metadata": {
        "id": "61fa9428"
      },
      "source": [
        "### Since State is string type data, we can't process as it is, so we will use label encoder to convert it into numeric labels"
      ]
    },
    {
      "cell_type": "code",
      "execution_count": null,
      "id": "235ce574",
      "metadata": {
        "id": "235ce574",
        "outputId": "9325349b-b158-4cf4-a566-8c21cc8be02a"
      },
      "outputs": [
        {
          "data": {
            "text/html": [
              "<div>\n",
              "<style scoped>\n",
              "    .dataframe tbody tr th:only-of-type {\n",
              "        vertical-align: middle;\n",
              "    }\n",
              "\n",
              "    .dataframe tbody tr th {\n",
              "        vertical-align: top;\n",
              "    }\n",
              "\n",
              "    .dataframe thead th {\n",
              "        text-align: right;\n",
              "    }\n",
              "</style>\n",
              "<table border=\"1\" class=\"dataframe\">\n",
              "  <thead>\n",
              "    <tr style=\"text-align: right;\">\n",
              "      <th></th>\n",
              "      <th>R&amp;D Spend</th>\n",
              "      <th>Administration</th>\n",
              "      <th>Marketing Spend</th>\n",
              "      <th>State</th>\n",
              "    </tr>\n",
              "  </thead>\n",
              "  <tbody>\n",
              "    <tr>\n",
              "      <th>0</th>\n",
              "      <td>165349.20</td>\n",
              "      <td>136897.80</td>\n",
              "      <td>471784.10</td>\n",
              "      <td>2</td>\n",
              "    </tr>\n",
              "    <tr>\n",
              "      <th>1</th>\n",
              "      <td>162597.70</td>\n",
              "      <td>151377.59</td>\n",
              "      <td>443898.53</td>\n",
              "      <td>0</td>\n",
              "    </tr>\n",
              "    <tr>\n",
              "      <th>2</th>\n",
              "      <td>153441.51</td>\n",
              "      <td>101145.55</td>\n",
              "      <td>407934.54</td>\n",
              "      <td>1</td>\n",
              "    </tr>\n",
              "    <tr>\n",
              "      <th>3</th>\n",
              "      <td>144372.41</td>\n",
              "      <td>118671.85</td>\n",
              "      <td>383199.62</td>\n",
              "      <td>2</td>\n",
              "    </tr>\n",
              "    <tr>\n",
              "      <th>4</th>\n",
              "      <td>142107.34</td>\n",
              "      <td>91391.77</td>\n",
              "      <td>366168.42</td>\n",
              "      <td>1</td>\n",
              "    </tr>\n",
              "  </tbody>\n",
              "</table>\n",
              "</div>"
            ],
            "text/plain": [
              "   R&D Spend  Administration  Marketing Spend  State\n",
              "0  165349.20       136897.80        471784.10      2\n",
              "1  162597.70       151377.59        443898.53      0\n",
              "2  153441.51       101145.55        407934.54      1\n",
              "3  144372.41       118671.85        383199.62      2\n",
              "4  142107.34        91391.77        366168.42      1"
            ]
          },
          "execution_count": 8,
          "metadata": {},
          "output_type": "execute_result"
        }
      ],
      "source": [
        "# label_encoder object knows how to understand word labels.\n",
        "label_encoder = preprocessing.LabelEncoder()\n",
        "  \n",
        "# Encode labels in column 'State'.\n",
        "x_data['State']= label_encoder.fit_transform(x_data['State'])\n",
        "\n",
        "# x_data['State'].unique()\n",
        "x_data.head()"
      ]
    },
    {
      "cell_type": "code",
      "execution_count": null,
      "id": "57a580c6",
      "metadata": {
        "id": "57a580c6",
        "outputId": "9bf15123-1d8d-449b-fc4d-251ff5dfb90a"
      },
      "outputs": [
        {
          "data": {
            "text/plain": [
              "array([[ 2.01641149e+00,  5.60752915e-01,  2.15394309e+00,\n",
              "         1.21267813e+00],\n",
              "       [ 1.95586034e+00,  1.08280658e+00,  1.92360040e+00,\n",
              "        -1.21267813e+00],\n",
              "       [ 1.75436374e+00, -7.28257028e-01,  1.62652767e+00,\n",
              "         0.00000000e+00],\n",
              "       [ 1.55478369e+00, -9.63646307e-02,  1.42221024e+00,\n",
              "         1.21267813e+00],\n",
              "       [ 1.50493720e+00, -1.07991935e+00,  1.28152771e+00,\n",
              "         0.00000000e+00],\n",
              "       [ 1.27980001e+00, -7.76239071e-01,  1.25421046e+00,\n",
              "         1.21267813e+00],\n",
              "       [ 1.34006641e+00,  9.32147208e-01, -6.88149930e-01,\n",
              "        -1.21267813e+00],\n",
              "       [ 1.24505666e+00,  8.71980011e-01,  9.32185978e-01,\n",
              "         0.00000000e+00],\n",
              "       [ 1.03036886e+00,  9.86952101e-01,  8.30886909e-01,\n",
              "         1.21267813e+00],\n",
              "       [ 1.09181921e+00, -4.56640246e-01,  7.76107440e-01,\n",
              "        -1.21267813e+00],\n",
              "       [ 6.20398248e-01, -3.87599089e-01,  1.49807267e-01,\n",
              "         0.00000000e+00],\n",
              "       [ 5.93085418e-01, -1.06553960e+00,  3.19833623e-01,\n",
              "        -1.21267813e+00],\n",
              "       [ 4.43259872e-01,  2.15449064e-01,  3.20617441e-01,\n",
              "         0.00000000e+00],\n",
              "       [ 4.02077603e-01,  5.10178953e-01,  3.43956788e-01,\n",
              "        -1.21267813e+00],\n",
              "       [ 1.01718075e+00,  1.26919939e+00,  3.75742273e-01,\n",
              "         0.00000000e+00],\n",
              "       [ 8.97913123e-01,  4.58678535e-02,  4.19218702e-01,\n",
              "         1.21267813e+00],\n",
              "       [ 9.44411957e-02,  9.11841968e-03,  4.40446224e-01,\n",
              "        -1.21267813e+00],\n",
              "       [ 4.60720127e-01,  8.55666318e-01,  5.91016724e-01,\n",
              "         1.21267813e+00],\n",
              "       [ 3.96724938e-01, -2.58465367e-01,  6.92992062e-01,\n",
              "         0.00000000e+00],\n",
              "       [ 2.79441650e-01,  1.15983657e+00, -1.74312698e+00,\n",
              "         1.21267813e+00],\n",
              "       [ 5.57260867e-02, -2.69587651e-01,  7.23925995e-01,\n",
              "        -1.21267813e+00],\n",
              "       [ 1.02723599e-01,  1.16918609e+00,  7.32787791e-01,\n",
              "         1.21267813e+00],\n",
              "       [ 6.00657792e-03,  5.18495648e-02,  7.62375876e-01,\n",
              "         0.00000000e+00],\n",
              "       [-1.36200724e-01, -5.62211268e-01,  7.74348908e-01,\n",
              "         0.00000000e+00],\n",
              "       [ 7.31146008e-02, -7.95469167e-01, -5.81939297e-01,\n",
              "         1.21267813e+00],\n",
              "       [-1.99311688e-01,  6.56489139e-01, -6.03516725e-01,\n",
              "        -1.21267813e+00],\n",
              "       [ 3.53702028e-02,  8.21717916e-01, -6.35835495e-01,\n",
              "         0.00000000e+00],\n",
              "       [-3.55189938e-02,  2.35068543e-01,  1.17427116e+00,\n",
              "         1.21267813e+00],\n",
              "       [-1.68792717e-01,  2.21014050e+00, -7.67189437e-01,\n",
              "         0.00000000e+00],\n",
              "       [-1.78608540e-01,  1.14245677e+00, -8.58133663e-01,\n",
              "         1.21267813e+00],\n",
              "       [-2.58074369e-01, -2.05628659e-01, -9.90357166e-01,\n",
              "         0.00000000e+00],\n",
              "       [-2.76958231e-01,  1.13055391e+00, -1.01441945e+00,\n",
              "         1.21267813e+00],\n",
              "       [-2.26948675e-01,  2.83923813e-01, -1.36244978e+00,\n",
              "        -1.21267813e+00],\n",
              "       [-4.01128925e-01, -6.59324033e-01,  2.98172434e-02,\n",
              "         0.00000000e+00],\n",
              "       [-6.00682122e-01,  1.31053525e+00, -1.87861793e-03,\n",
              "        -1.21267813e+00],\n",
              "       [-6.09749941e-01, -1.30865753e+00, -4.54931587e-02,\n",
              "         1.21267813e+00],\n",
              "       [-9.91570153e-01,  2.05924691e-01, -8.17625734e-02,\n",
              "         0.00000000e+00],\n",
              "       [-6.52532310e-01, -2.52599402e+00, -1.15608256e-01,\n",
              "        -1.21267813e+00],\n",
              "       [-1.17717755e+00, -1.99727037e+00, -2.12784866e-01,\n",
              "         1.21267813e+00],\n",
              "       [-7.73820359e-01, -1.38312156e+00, -2.97583276e-01,\n",
              "        -1.21267813e+00],\n",
              "       [-9.89577015e-01, -1.00900218e-01, -3.15785883e-01,\n",
              "        -1.21267813e+00],\n",
              "       [-1.00853372e+00, -1.32079581e+00, -3.84552407e-01,\n",
              "         0.00000000e+00],\n",
              "       [-1.10210556e+00, -9.06937535e-01, -5.20595959e-01,\n",
              "        -1.21267813e+00],\n",
              "       [-1.28113364e+00,  2.17681524e-01, -1.44960468e+00,\n",
              "         1.21267813e+00],\n",
              "       [-1.13430539e+00,  1.20641936e+00, -1.50907418e+00,\n",
              "        -1.21267813e+00],\n",
              "       [-1.60035036e+00,  1.01253936e-01, -1.72739998e+00,\n",
              "         1.21267813e+00],\n",
              "       [-1.59341322e+00, -1.99321741e-01,  7.11122474e-01,\n",
              "         0.00000000e+00],\n",
              "       [-1.62236202e+00,  5.07721876e-01, -1.74312698e+00,\n",
              "        -1.21267813e+00],\n",
              "       [-1.61043334e+00, -2.50940884e+00, -1.74312698e+00,\n",
              "         1.21267813e+00],\n",
              "       [-1.62236202e+00, -1.57225506e-01, -1.36998473e+00,\n",
              "        -1.21267813e+00]])"
            ]
          },
          "execution_count": 9,
          "metadata": {},
          "output_type": "execute_result"
        }
      ],
      "source": [
        "sc = StandardScaler()\n",
        "x_data = sc.fit_transform(x_data)\n",
        "# type(x_data)\n",
        "x_data"
      ]
    },
    {
      "cell_type": "markdown",
      "id": "46cd4d01",
      "metadata": {
        "id": "46cd4d01"
      },
      "source": [
        "#### Splitting data into training and testing"
      ]
    },
    {
      "cell_type": "code",
      "execution_count": null,
      "id": "9a8abb48",
      "metadata": {
        "id": "9a8abb48"
      },
      "outputs": [],
      "source": [
        "x_train, x_test, y_train, y_test = train_test_split(x_data, y_data, test_size=0.2, random_state=42)"
      ]
    },
    {
      "cell_type": "markdown",
      "id": "724a0744",
      "metadata": {
        "id": "724a0744"
      },
      "source": [
        "### Multiple Linear Regression\n",
        "\n",
        "### y = b + $w_{1}$$x_{1}$ + $w_{2}$$x_{2}$ + ... + $w_{n}$$x_{n}$\n",
        "\n",
        "\n",
        "\n",
        "\n",
        "### Mean Square Error\n",
        "![MSE](https://miro.medium.com/max/1100/1*3RBV7LdmmabuP9ajDnFxJQ.webp)\n",
        "\n",
        "\n",
        "### Derivative of MSE\n",
        "![](https://miro.medium.com/max/828/1*TjxypVMQVjOOT2w7299-Ow.webp)"
      ]
    },
    {
      "cell_type": "code",
      "execution_count": null,
      "id": "8ed16497",
      "metadata": {
        "id": "8ed16497"
      },
      "outputs": [],
      "source": [
        "class MyLinearRegression:\n",
        "    '''\n",
        "    A class which implements linear regression model with gradient descent.\n",
        "    '''\n",
        "\n",
        "    def __init__(self, learning_rate=0.01, n_iterations=100000):\n",
        "        self.learning_rate = learning_rate\n",
        "        self.n_iterations = n_iterations\n",
        "        self.weights, self.bias = None, None\n",
        "        self.loss = []\n",
        "        self.y_val = []\n",
        "    \n",
        "    def fit(self, X, y):\n",
        "        '''\n",
        "        Used to calculate the coefficient of the linear regression model.\n",
        "        \n",
        "        Args:\n",
        "            X: array, features\n",
        "            y: array, true values\n",
        "            \n",
        "        Returns:\n",
        "            None\n",
        "        '''\n",
        "        # 1. Initialize weights and bias to zeros\n",
        "        self.weights = np.zeros(X.shape[1])\n",
        "        self.bias = 0\n",
        "\n",
        "        # 2. Perform gradient descent\n",
        "        for i in range(self.n_iterations) or (loss[-2]>loss[-1]):\n",
        "            \n",
        "            # Line equation\n",
        "            y_hat = np.dot(X, self.weights) + self.bias\n",
        "            if i == self.n_iterations - 1:\n",
        "                self.y_val.append(y_hat)\n",
        "            loss = mean_squared_error(y, y_hat)\n",
        "            # print(loss)\n",
        "            self.loss.append(loss)\n",
        "            \n",
        "            # Calculate derivatives\n",
        "            partial_w = (1 / X.shape[0]) * (2 * np.dot(X.T, (y_hat - y)))\n",
        "            partial_d = (1 / X.shape[0]) * (2 * np.sum(y_hat - y))\n",
        "            \n",
        "            # Update the coefficients\n",
        "            # print(type(self.weights))\n",
        "            # print(type(self.learning_rate))\n",
        "            # print(type(partial_d))\n",
        "            self.weights = self.weights - (self.learning_rate * partial_w)\n",
        "            self.bias = self.bias - (self.learning_rate * partial_d)\n",
        "        \n",
        "        \n",
        "    def predict(self, X):\n",
        "        '''\n",
        "        Makes predictions using the line equation.\n",
        "        \n",
        "        Args:\n",
        "            X: array, features\n",
        "            \n",
        "        Returns:\n",
        "            array, predictions\n",
        "        '''\n",
        "        return np.dot(X, self.weights) + self.bias"
      ]
    },
    {
      "cell_type": "code",
      "execution_count": null,
      "id": "fe5f5443",
      "metadata": {
        "id": "fe5f5443"
      },
      "outputs": [],
      "source": [
        "LRmodel = MyLinearRegression()\n",
        "\n",
        "LRmodel.fit(x_train, y_train)\n",
        "preds = LRmodel.predict(x_test)"
      ]
    },
    {
      "cell_type": "code",
      "execution_count": null,
      "id": "575e402b",
      "metadata": {
        "id": "575e402b",
        "outputId": "20c87536-f8e9-4d84-e2f1-0466c363a7ae"
      },
      "outputs": [
        {
          "name": "stdout",
          "output_type": "stream",
          "text": [
            "The coefficients and loss after optimization are:\n",
            "bias: 111677.16370134386\n",
            "weights: [ 3.65251649e+04 -1.88357234e+03  3.78444552e+03 -1.38703803e+01]\n",
            "MSE: 80929465.49099249\n"
          ]
        }
      ],
      "source": [
        "print('The coefficients and loss after optimization are:')\n",
        "print(f'bias: {LRmodel.bias}')\n",
        "print(f'weights: {LRmodel.weights}')\n",
        "\n",
        "print(f'MSE: {mean_squared_error(preds, y_test)}')"
      ]
    },
    {
      "cell_type": "code",
      "execution_count": null,
      "id": "a8aa8cc1",
      "metadata": {
        "id": "a8aa8cc1"
      },
      "outputs": [],
      "source": [
        "# Using sklearn library to compare our results\n",
        "LR = LinearRegression()\n",
        "\n",
        "LR.fit(x_train, y_train)\n",
        "LRpred = LR.predict(x_test)"
      ]
    },
    {
      "cell_type": "code",
      "execution_count": null,
      "id": "6e04c2c0",
      "metadata": {
        "scrolled": false,
        "id": "6e04c2c0",
        "outputId": "e18c0f6a-ac97-4ba4-ce77-ee4c2b184df4"
      },
      "outputs": [
        {
          "name": "stdout",
          "output_type": "stream",
          "text": [
            "The coefficients and loss on using sklearn library\n",
            "bias: [ 3.65251649e+04 -1.88357234e+03  3.78444552e+03 -1.38703803e+01]\n",
            "weights: 111677.1637013443\n",
            "MSE: 80929465.49099013\n"
          ]
        }
      ],
      "source": [
        "print('The coefficients and loss on using sklearn library')\n",
        "print(f'bias: {LR.coef_}')\n",
        "print(f'weights: {LR.intercept_}')\n",
        "\n",
        "print(f'MSE: {mean_squared_error(LRpred, y_test)}')"
      ]
    },
    {
      "cell_type": "code",
      "execution_count": null,
      "id": "caa921ea",
      "metadata": {
        "scrolled": true,
        "id": "caa921ea",
        "outputId": "04d715f1-ed32-4ceb-87e4-033232786a83"
      },
      "outputs": [
        {
          "data": {
            "text/html": [
              "<div>\n",
              "<style scoped>\n",
              "    .dataframe tbody tr th:only-of-type {\n",
              "        vertical-align: middle;\n",
              "    }\n",
              "\n",
              "    .dataframe tbody tr th {\n",
              "        vertical-align: top;\n",
              "    }\n",
              "\n",
              "    .dataframe thead th {\n",
              "        text-align: right;\n",
              "    }\n",
              "</style>\n",
              "<table border=\"1\" class=\"dataframe\">\n",
              "  <thead>\n",
              "    <tr style=\"text-align: right;\">\n",
              "      <th></th>\n",
              "      <th>Original</th>\n",
              "      <th>Predicted</th>\n",
              "    </tr>\n",
              "  </thead>\n",
              "  <tbody>\n",
              "    <tr>\n",
              "      <th>0</th>\n",
              "      <td>134307.35</td>\n",
              "      <td>126720.661507</td>\n",
              "    </tr>\n",
              "    <tr>\n",
              "      <th>1</th>\n",
              "      <td>81005.76</td>\n",
              "      <td>84909.089619</td>\n",
              "    </tr>\n",
              "    <tr>\n",
              "      <th>2</th>\n",
              "      <td>99937.59</td>\n",
              "      <td>98890.318549</td>\n",
              "    </tr>\n",
              "    <tr>\n",
              "      <th>3</th>\n",
              "      <td>64926.08</td>\n",
              "      <td>46479.312402</td>\n",
              "    </tr>\n",
              "    <tr>\n",
              "      <th>4</th>\n",
              "      <td>125370.37</td>\n",
              "      <td>129113.183188</td>\n",
              "    </tr>\n",
              "    <tr>\n",
              "      <th>5</th>\n",
              "      <td>35673.41</td>\n",
              "      <td>50968.883978</td>\n",
              "    </tr>\n",
              "    <tr>\n",
              "      <th>6</th>\n",
              "      <td>105733.54</td>\n",
              "      <td>109015.016268</td>\n",
              "    </tr>\n",
              "    <tr>\n",
              "      <th>7</th>\n",
              "      <td>107404.34</td>\n",
              "      <td>100893.570781</td>\n",
              "    </tr>\n",
              "    <tr>\n",
              "      <th>8</th>\n",
              "      <td>97427.84</td>\n",
              "      <td>97713.738214</td>\n",
              "    </tr>\n",
              "    <tr>\n",
              "      <th>9</th>\n",
              "      <td>122776.86</td>\n",
              "      <td>113085.590561</td>\n",
              "    </tr>\n",
              "  </tbody>\n",
              "</table>\n",
              "</div>"
            ],
            "text/plain": [
              "    Original      Predicted\n",
              "0  134307.35  126720.661507\n",
              "1   81005.76   84909.089619\n",
              "2   99937.59   98890.318549\n",
              "3   64926.08   46479.312402\n",
              "4  125370.37  129113.183188\n",
              "5   35673.41   50968.883978\n",
              "6  105733.54  109015.016268\n",
              "7  107404.34  100893.570781\n",
              "8   97427.84   97713.738214\n",
              "9  122776.86  113085.590561"
            ]
          },
          "execution_count": 16,
          "metadata": {},
          "output_type": "execute_result"
        }
      ],
      "source": [
        "diff = {'Original': y_test, 'Predicted': preds}\n",
        "diff = pd.DataFrame(data=diff)\n",
        "diff"
      ]
    },
    {
      "cell_type": "markdown",
      "id": "cd3b9f87",
      "metadata": {
        "id": "cd3b9f87"
      },
      "source": [
        "### Analysis /  Contour Plots\n",
        "\n",
        "#### When comparing the result obtained by our Regression model with standard model, we noticed that the result that we got were very close to the actual data. Also, the BCE error that we got were very close."
      ]
    },
    {
      "cell_type": "code",
      "execution_count": null,
      "id": "8c055a13",
      "metadata": {
        "id": "8c055a13",
        "outputId": "3a46ab39-42e2-4d71-ad80-e218a5d3dec9"
      },
      "outputs": [
        {
          "name": "stderr",
          "output_type": "stream",
          "text": [
            "C:\\Users\\rohan\\AppData\\Local\\Temp\\ipykernel_7240\\614152284.py:1: FutureWarning: The default value of numeric_only in DataFrame.corr is deprecated. In a future version, it will default to False. Select only valid columns or specify the value of numeric_only to silence this warning.\n",
            "  startup_data.corr()\n"
          ]
        },
        {
          "data": {
            "text/html": [
              "<div>\n",
              "<style scoped>\n",
              "    .dataframe tbody tr th:only-of-type {\n",
              "        vertical-align: middle;\n",
              "    }\n",
              "\n",
              "    .dataframe tbody tr th {\n",
              "        vertical-align: top;\n",
              "    }\n",
              "\n",
              "    .dataframe thead th {\n",
              "        text-align: right;\n",
              "    }\n",
              "</style>\n",
              "<table border=\"1\" class=\"dataframe\">\n",
              "  <thead>\n",
              "    <tr style=\"text-align: right;\">\n",
              "      <th></th>\n",
              "      <th>R&amp;D Spend</th>\n",
              "      <th>Administration</th>\n",
              "      <th>Marketing Spend</th>\n",
              "      <th>Profit</th>\n",
              "    </tr>\n",
              "  </thead>\n",
              "  <tbody>\n",
              "    <tr>\n",
              "      <th>R&amp;D Spend</th>\n",
              "      <td>1.000000</td>\n",
              "      <td>0.241955</td>\n",
              "      <td>0.724248</td>\n",
              "      <td>0.972900</td>\n",
              "    </tr>\n",
              "    <tr>\n",
              "      <th>Administration</th>\n",
              "      <td>0.241955</td>\n",
              "      <td>1.000000</td>\n",
              "      <td>-0.032154</td>\n",
              "      <td>0.200717</td>\n",
              "    </tr>\n",
              "    <tr>\n",
              "      <th>Marketing Spend</th>\n",
              "      <td>0.724248</td>\n",
              "      <td>-0.032154</td>\n",
              "      <td>1.000000</td>\n",
              "      <td>0.747766</td>\n",
              "    </tr>\n",
              "    <tr>\n",
              "      <th>Profit</th>\n",
              "      <td>0.972900</td>\n",
              "      <td>0.200717</td>\n",
              "      <td>0.747766</td>\n",
              "      <td>1.000000</td>\n",
              "    </tr>\n",
              "  </tbody>\n",
              "</table>\n",
              "</div>"
            ],
            "text/plain": [
              "                 R&D Spend  Administration  Marketing Spend    Profit\n",
              "R&D Spend         1.000000        0.241955         0.724248  0.972900\n",
              "Administration    0.241955        1.000000        -0.032154  0.200717\n",
              "Marketing Spend   0.724248       -0.032154         1.000000  0.747766\n",
              "Profit            0.972900        0.200717         0.747766  1.000000"
            ]
          },
          "execution_count": 17,
          "metadata": {},
          "output_type": "execute_result"
        }
      ],
      "source": [
        "startup_data.corr()"
      ]
    },
    {
      "cell_type": "markdown",
      "id": "86c45e79",
      "metadata": {
        "id": "86c45e79"
      },
      "source": [
        "### As we can see that 'Administration' and 'Marketing Spend' are least correlated (-0.032154) and we know that in contour plots, X-axes and Y-axes denotes values of two independent variables, so we decided to go with these tho features."
      ]
    },
    {
      "cell_type": "code",
      "execution_count": null,
      "id": "1da83e94",
      "metadata": {
        "id": "1da83e94"
      },
      "outputs": [],
      "source": [
        "# Preprocessing for contour plots\n",
        "x_train_CP = startup_data.drop(['Profit','State', 'R&D Spend'], axis=1)  \n",
        "y_train_CP = startup_data['Profit']\n",
        "\n",
        "scaler = StandardScaler()\n",
        "x_train_CP = scaler.fit_transform(x_train_CP)\n",
        "\n",
        "w_initial = np.array((0, 0)) #initial weights\n",
        "lr = 0.001 #learning rate\n",
        "tolerance = 1e-3\n",
        "epochs = 10000"
      ]
    },
    {
      "cell_type": "code",
      "execution_count": null,
      "id": "c60de5ef",
      "metadata": {
        "id": "c60de5ef"
      },
      "outputs": [],
      "source": [
        "def mean_square_error(y_actual, y_pred):\n",
        "    cost = np.sum((y_actual - y_pred)**2)/len(y_actual)\n",
        "    return cost\n",
        "\n",
        "def calculate_gradients(W, x, y):\n",
        "    #assuming a fixed bias so that we can visualize in 3d\n",
        "    \n",
        "    y_pred = x.dot(W)\n",
        "#     print(f'y_pred: {y_pred}')\n",
        "    err = y - y_pred\n",
        "    mse = mean_square_error(y, y_pred)\n",
        "    gradient = -(err.dot(x)/len(x))\n",
        "#     print(f'gradient: {gradient}')\n",
        "    return gradient, mse\n",
        "\n",
        "def gradient_descent(w, lr, epochs):\n",
        "    old_w = []\n",
        "    errors = []\n",
        "    #Performing gradient descent\n",
        "    iterations = 1\n",
        "\n",
        "    for i in range(epochs):\n",
        "        gradient, error = calculate_gradients(w, x_train_CP, y_train_CP)\n",
        "        new_w = w - (lr * gradient)\n",
        "\n",
        "        #Printing error after 10 iterations\n",
        "        if iterations % 500 == 0:\n",
        "            print(\"Iteration:\", iterations, \" Cost: \", error)\n",
        "            old_w.append(new_w)\n",
        "            errors.append(error)\n",
        "\n",
        "        #Stopping condition\n",
        "        if np.sum(abs(new_w - w)) < tolerance:\n",
        "            print(\"Gradient descent has converged\")\n",
        "            break\n",
        "\n",
        "        iterations+=1\n",
        "        w = new_w\n",
        "  \n",
        "    print(\"Final weight values are: \", w)\n",
        "    return w, old_w, errors"
      ]
    },
    {
      "cell_type": "code",
      "execution_count": null,
      "id": "239a8b9b",
      "metadata": {
        "id": "239a8b9b",
        "outputId": "c0000f35-2b69-4d66-c408-e09ab8f3424a"
      },
      "outputs": [
        {
          "name": "stdout",
          "output_type": "stream",
          "text": [
            "Iteration: 500  Cost:  13532051465.933311\n",
            "Iteration: 1000  Cost:  13304406883.999561\n",
            "Iteration: 1500  Cost:  13219220493.664505\n",
            "Iteration: 2000  Cost:  13187320281.520096\n",
            "Iteration: 2500  Cost:  13175366199.05385\n",
            "Iteration: 3000  Cost:  13170883628.744907\n",
            "Iteration: 3500  Cost:  13169201671.039753\n",
            "Iteration: 4000  Cost:  13168570177.18655\n",
            "Iteration: 4500  Cost:  13168332942.382786\n",
            "Iteration: 5000  Cost:  13168243769.629484\n",
            "Iteration: 5500  Cost:  13168210232.961359\n",
            "Iteration: 6000  Cost:  13168197613.776787\n",
            "Iteration: 6500  Cost:  13168192863.091856\n",
            "Iteration: 7000  Cost:  13168191073.784739\n",
            "Iteration: 7500  Cost:  13168190399.555296\n",
            "Iteration: 8000  Cost:  13168190145.390486\n",
            "Iteration: 8500  Cost:  13168190049.53896\n",
            "Iteration: 9000  Cost:  13168190013.377174\n",
            "Iteration: 9500  Cost:  13168189999.72947\n",
            "Iteration: 10000  Cost:  13168189994.576948\n",
            "Final weight values are:  [ 8976.58191822 30123.75718759]\n"
          ]
        }
      ],
      "source": [
        "w, old_w, errors = gradient_descent(w_initial, lr, epochs)\n",
        "all_ws = np.array(old_w)"
      ]
    },
    {
      "cell_type": "code",
      "execution_count": null,
      "id": "c786680d",
      "metadata": {
        "id": "c786680d"
      },
      "outputs": [],
      "source": [
        "errors.append(1.36e+10)\n",
        "levels = np.sort(np.array(errors))\n",
        "\n",
        "w0 = np.linspace(-w[0]*4, w[0]*4, 100)\n",
        "w1 = np.linspace(-w[1]*4, w[1]*4, 100)\n",
        "\n",
        "mse_vals = np.zeros(shape=(w0.size, w1.size))\n",
        "\n",
        "for i, value1 in enumerate(w0):\n",
        "    for j, value2 in enumerate(w1):\n",
        "        w_temp = np.array((value1, value2))\n",
        "        mse_vals[i,j] = calculate_gradients(w_temp, x_train_CP, y_train_CP)[1]"
      ]
    },
    {
      "cell_type": "code",
      "execution_count": null,
      "id": "856bb29b",
      "metadata": {
        "id": "856bb29b",
        "outputId": "2296dc67-ede9-448e-9baf-60c582bedfa7"
      },
      "outputs": [
        {
          "data": {
            "text/plain": [
              "array([[3.74344871e+10, 3.67141457e+10, 3.60056554e+10, ...,\n",
              "        2.27399912e+10, 2.31692044e+10, 2.36102686e+10],\n",
              "       [3.73769237e+10, 3.66564688e+10, 3.59478649e+10, ...,\n",
              "        2.26714133e+10, 2.31005130e+10, 2.35414637e+10],\n",
              "       [3.73204127e+10, 3.65998442e+10, 3.58911268e+10, ...,\n",
              "        2.26038878e+10, 2.30328739e+10, 2.34737110e+10],\n",
              "       ...,\n",
              "       [3.67505967e+10, 3.60192408e+10, 3.52997360e+10, ...,\n",
              "        2.09876943e+10, 2.14058930e+10, 2.18359428e+10],\n",
              "       [3.67951116e+10, 3.60636421e+10, 3.53440238e+10, ...,\n",
              "        2.10211947e+10, 2.14392799e+10, 2.18692161e+10],\n",
              "       [3.68406788e+10, 3.61090958e+10, 3.53893639e+10, ...,\n",
              "        2.10557475e+10, 2.14737191e+10, 2.19035417e+10]])"
            ]
          },
          "execution_count": 22,
          "metadata": {},
          "output_type": "execute_result"
        }
      ],
      "source": [
        "mse_vals"
      ]
    },
    {
      "cell_type": "code",
      "execution_count": null,
      "id": "67050c86",
      "metadata": {
        "id": "67050c86",
        "outputId": "e52d5062-172e-4169-ed5b-1bf6d832d1d2"
      },
      "outputs": [
        {
          "data": {
            "image/png": "[encoded data removed]",
            "text/plain": [
              "<Figure size 1000x800 with 1 Axes>"
            ]
          },
          "metadata": {},
          "output_type": "display_data"
        }
      ],
      "source": [
        "plt.figure(figsize=(10,8))\n",
        "plt.contourf(w0, w1, mse_vals, levels=2, alpha=.7)\n",
        "plt.axhline(0, color='black', alpha=.5, dashes=[2, 4],linewidth=1)\n",
        "plt.axvline(0, color='black', alpha=0.5, dashes=[2, 4],linewidth=1)\n",
        "for i in range(len(old_w) - 1):\n",
        "    plt.annotate('', xy=all_ws[i + 1, :], xytext=all_ws[i, :],\n",
        "                 arrowprops={'arrowstyle': '->', 'color': 'r', 'lw': 1},\n",
        "                 va='center', ha='center')\n",
        "    CS = plt.contour(w0, w1, mse_vals, levels, linewidths=1,colors='black')\n",
        "plt.clabel(CS, inline=1, fontsize=8)\n",
        "plt.title(\"Contour Plot of Gradient Descent for Linear Regression\")\n",
        "plt.xlabel(\"w0\")\n",
        "plt.ylabel(\"w1\")\n",
        "plt.ylim(-50000, 110000)\n",
        "plt.show()"
      ]
    },
    {
      "cell_type": "markdown",
      "id": "b62ba500",
      "metadata": {
        "id": "b62ba500"
      },
      "source": [
        "## User Data"
      ]
    },
    {
      "cell_type": "code",
      "execution_count": null,
      "id": "a47126e0",
      "metadata": {
        "id": "a47126e0",
        "outputId": "f9c5482d-7d6c-4c13-b8b4-5d90927045ee"
      },
      "outputs": [
        {
          "data": {
            "text/html": [
              "<div>\n",
              "<style scoped>\n",
              "    .dataframe tbody tr th:only-of-type {\n",
              "        vertical-align: middle;\n",
              "    }\n",
              "\n",
              "    .dataframe tbody tr th {\n",
              "        vertical-align: top;\n",
              "    }\n",
              "\n",
              "    .dataframe thead th {\n",
              "        text-align: right;\n",
              "    }\n",
              "</style>\n",
              "<table border=\"1\" class=\"dataframe\">\n",
              "  <thead>\n",
              "    <tr style=\"text-align: right;\">\n",
              "      <th></th>\n",
              "      <th>User ID</th>\n",
              "      <th>Gender</th>\n",
              "      <th>Age</th>\n",
              "      <th>EstimatedSalary</th>\n",
              "      <th>Purchased</th>\n",
              "    </tr>\n",
              "  </thead>\n",
              "  <tbody>\n",
              "    <tr>\n",
              "      <th>0</th>\n",
              "      <td>15624510</td>\n",
              "      <td>Male</td>\n",
              "      <td>19</td>\n",
              "      <td>19000</td>\n",
              "      <td>0</td>\n",
              "    </tr>\n",
              "    <tr>\n",
              "      <th>1</th>\n",
              "      <td>15810944</td>\n",
              "      <td>Male</td>\n",
              "      <td>35</td>\n",
              "      <td>20000</td>\n",
              "      <td>0</td>\n",
              "    </tr>\n",
              "    <tr>\n",
              "      <th>2</th>\n",
              "      <td>15668575</td>\n",
              "      <td>Female</td>\n",
              "      <td>26</td>\n",
              "      <td>43000</td>\n",
              "      <td>0</td>\n",
              "    </tr>\n",
              "    <tr>\n",
              "      <th>3</th>\n",
              "      <td>15603246</td>\n",
              "      <td>Female</td>\n",
              "      <td>27</td>\n",
              "      <td>57000</td>\n",
              "      <td>0</td>\n",
              "    </tr>\n",
              "    <tr>\n",
              "      <th>4</th>\n",
              "      <td>15804002</td>\n",
              "      <td>Male</td>\n",
              "      <td>19</td>\n",
              "      <td>76000</td>\n",
              "      <td>0</td>\n",
              "    </tr>\n",
              "  </tbody>\n",
              "</table>\n",
              "</div>"
            ],
            "text/plain": [
              "    User ID  Gender  Age  EstimatedSalary  Purchased\n",
              "0  15624510    Male   19            19000          0\n",
              "1  15810944    Male   35            20000          0\n",
              "2  15668575  Female   26            43000          0\n",
              "3  15603246  Female   27            57000          0\n",
              "4  15804002    Male   19            76000          0"
            ]
          },
          "execution_count": 24,
          "metadata": {},
          "output_type": "execute_result"
        }
      ],
      "source": [
        "user_data.head()"
      ]
    },
    {
      "cell_type": "code",
      "execution_count": null,
      "id": "9386c866",
      "metadata": {
        "id": "9386c866"
      },
      "outputs": [],
      "source": [
        "x_usr_data = user_data.drop('Purchased', axis=1)\n",
        "y_usr_data = user_data['Purchased']"
      ]
    },
    {
      "cell_type": "code",
      "execution_count": null,
      "id": "1d5a332a",
      "metadata": {
        "id": "1d5a332a",
        "outputId": "b89e47c8-6b1a-44dc-9b05-e4fc9512f0d2"
      },
      "outputs": [
        {
          "data": {
            "text/html": [
              "<div>\n",
              "<style scoped>\n",
              "    .dataframe tbody tr th:only-of-type {\n",
              "        vertical-align: middle;\n",
              "    }\n",
              "\n",
              "    .dataframe tbody tr th {\n",
              "        vertical-align: top;\n",
              "    }\n",
              "\n",
              "    .dataframe thead th {\n",
              "        text-align: right;\n",
              "    }\n",
              "</style>\n",
              "<table border=\"1\" class=\"dataframe\">\n",
              "  <thead>\n",
              "    <tr style=\"text-align: right;\">\n",
              "      <th></th>\n",
              "      <th>User ID</th>\n",
              "      <th>Gender</th>\n",
              "      <th>Age</th>\n",
              "      <th>EstimatedSalary</th>\n",
              "    </tr>\n",
              "  </thead>\n",
              "  <tbody>\n",
              "    <tr>\n",
              "      <th>0</th>\n",
              "      <td>15624510</td>\n",
              "      <td>Male</td>\n",
              "      <td>19</td>\n",
              "      <td>19000</td>\n",
              "    </tr>\n",
              "    <tr>\n",
              "      <th>1</th>\n",
              "      <td>15810944</td>\n",
              "      <td>Male</td>\n",
              "      <td>35</td>\n",
              "      <td>20000</td>\n",
              "    </tr>\n",
              "    <tr>\n",
              "      <th>2</th>\n",
              "      <td>15668575</td>\n",
              "      <td>Female</td>\n",
              "      <td>26</td>\n",
              "      <td>43000</td>\n",
              "    </tr>\n",
              "    <tr>\n",
              "      <th>3</th>\n",
              "      <td>15603246</td>\n",
              "      <td>Female</td>\n",
              "      <td>27</td>\n",
              "      <td>57000</td>\n",
              "    </tr>\n",
              "    <tr>\n",
              "      <th>4</th>\n",
              "      <td>15804002</td>\n",
              "      <td>Male</td>\n",
              "      <td>19</td>\n",
              "      <td>76000</td>\n",
              "    </tr>\n",
              "    <tr>\n",
              "      <th>5</th>\n",
              "      <td>15728773</td>\n",
              "      <td>Male</td>\n",
              "      <td>27</td>\n",
              "      <td>58000</td>\n",
              "    </tr>\n",
              "    <tr>\n",
              "      <th>6</th>\n",
              "      <td>15598044</td>\n",
              "      <td>Female</td>\n",
              "      <td>27</td>\n",
              "      <td>84000</td>\n",
              "    </tr>\n",
              "    <tr>\n",
              "      <th>7</th>\n",
              "      <td>15694829</td>\n",
              "      <td>Female</td>\n",
              "      <td>32</td>\n",
              "      <td>150000</td>\n",
              "    </tr>\n",
              "  </tbody>\n",
              "</table>\n",
              "</div>"
            ],
            "text/plain": [
              "    User ID  Gender  Age  EstimatedSalary\n",
              "0  15624510    Male   19            19000\n",
              "1  15810944    Male   35            20000\n",
              "2  15668575  Female   26            43000\n",
              "3  15603246  Female   27            57000\n",
              "4  15804002    Male   19            76000\n",
              "5  15728773    Male   27            58000\n",
              "6  15598044  Female   27            84000\n",
              "7  15694829  Female   32           150000"
            ]
          },
          "execution_count": 26,
          "metadata": {},
          "output_type": "execute_result"
        }
      ],
      "source": [
        "# type(x_usr_data)\n",
        "x_usr_data.head(8)\n",
        "# x_usr_data.shape"
      ]
    },
    {
      "cell_type": "code",
      "execution_count": null,
      "id": "cdd3357f",
      "metadata": {
        "id": "cdd3357f",
        "outputId": "d64122de-bc4b-4330-e494-ed817a4ce0a8"
      },
      "outputs": [
        {
          "data": {
            "text/plain": [
              "0    0\n",
              "1    0\n",
              "2    0\n",
              "3    0\n",
              "4    0\n",
              "5    0\n",
              "6    0\n",
              "7    1\n",
              "Name: Purchased, dtype: int64"
            ]
          },
          "execution_count": 27,
          "metadata": {},
          "output_type": "execute_result"
        }
      ],
      "source": [
        "# type(y_usr_data)\n",
        "y_usr_data.head(8)\n",
        "# y_usr_data.shape"
      ]
    },
    {
      "cell_type": "markdown",
      "id": "80458af5",
      "metadata": {
        "id": "80458af5"
      },
      "source": [
        "### Since we don't need UserID to determine if a purchase will be made or not, we'll simply drop it. Also, we'll convert gender from string to binary type."
      ]
    },
    {
      "cell_type": "code",
      "execution_count": null,
      "id": "9c0cf12d",
      "metadata": {
        "id": "9c0cf12d",
        "outputId": "addbee25-5227-46d4-cbf5-4a91843baa38"
      },
      "outputs": [
        {
          "data": {
            "text/html": [
              "<div>\n",
              "<style scoped>\n",
              "    .dataframe tbody tr th:only-of-type {\n",
              "        vertical-align: middle;\n",
              "    }\n",
              "\n",
              "    .dataframe tbody tr th {\n",
              "        vertical-align: top;\n",
              "    }\n",
              "\n",
              "    .dataframe thead th {\n",
              "        text-align: right;\n",
              "    }\n",
              "</style>\n",
              "<table border=\"1\" class=\"dataframe\">\n",
              "  <thead>\n",
              "    <tr style=\"text-align: right;\">\n",
              "      <th></th>\n",
              "      <th>Gender</th>\n",
              "      <th>Age</th>\n",
              "      <th>EstimatedSalary</th>\n",
              "    </tr>\n",
              "  </thead>\n",
              "  <tbody>\n",
              "    <tr>\n",
              "      <th>0</th>\n",
              "      <td>Male</td>\n",
              "      <td>19</td>\n",
              "      <td>19000</td>\n",
              "    </tr>\n",
              "    <tr>\n",
              "      <th>1</th>\n",
              "      <td>Male</td>\n",
              "      <td>35</td>\n",
              "      <td>20000</td>\n",
              "    </tr>\n",
              "    <tr>\n",
              "      <th>2</th>\n",
              "      <td>Female</td>\n",
              "      <td>26</td>\n",
              "      <td>43000</td>\n",
              "    </tr>\n",
              "    <tr>\n",
              "      <th>3</th>\n",
              "      <td>Female</td>\n",
              "      <td>27</td>\n",
              "      <td>57000</td>\n",
              "    </tr>\n",
              "    <tr>\n",
              "      <th>4</th>\n",
              "      <td>Male</td>\n",
              "      <td>19</td>\n",
              "      <td>76000</td>\n",
              "    </tr>\n",
              "  </tbody>\n",
              "</table>\n",
              "</div>"
            ],
            "text/plain": [
              "   Gender  Age  EstimatedSalary\n",
              "0    Male   19            19000\n",
              "1    Male   35            20000\n",
              "2  Female   26            43000\n",
              "3  Female   27            57000\n",
              "4    Male   19            76000"
            ]
          },
          "execution_count": 28,
          "metadata": {},
          "output_type": "execute_result"
        }
      ],
      "source": [
        "x_usr_data.drop(columns='User ID', inplace=True)\n",
        "x_usr_data.head()"
      ]
    },
    {
      "cell_type": "code",
      "execution_count": null,
      "id": "88a309fd",
      "metadata": {
        "id": "88a309fd",
        "outputId": "3bd9e4fb-819b-4f3f-b780-c28388b74cd2"
      },
      "outputs": [
        {
          "data": {
            "text/html": [
              "<div>\n",
              "<style scoped>\n",
              "    .dataframe tbody tr th:only-of-type {\n",
              "        vertical-align: middle;\n",
              "    }\n",
              "\n",
              "    .dataframe tbody tr th {\n",
              "        vertical-align: top;\n",
              "    }\n",
              "\n",
              "    .dataframe thead th {\n",
              "        text-align: right;\n",
              "    }\n",
              "</style>\n",
              "<table border=\"1\" class=\"dataframe\">\n",
              "  <thead>\n",
              "    <tr style=\"text-align: right;\">\n",
              "      <th></th>\n",
              "      <th>Gender</th>\n",
              "      <th>Age</th>\n",
              "      <th>EstimatedSalary</th>\n",
              "    </tr>\n",
              "  </thead>\n",
              "  <tbody>\n",
              "    <tr>\n",
              "      <th>0</th>\n",
              "      <td>1</td>\n",
              "      <td>19</td>\n",
              "      <td>19000</td>\n",
              "    </tr>\n",
              "    <tr>\n",
              "      <th>1</th>\n",
              "      <td>1</td>\n",
              "      <td>35</td>\n",
              "      <td>20000</td>\n",
              "    </tr>\n",
              "    <tr>\n",
              "      <th>2</th>\n",
              "      <td>0</td>\n",
              "      <td>26</td>\n",
              "      <td>43000</td>\n",
              "    </tr>\n",
              "    <tr>\n",
              "      <th>3</th>\n",
              "      <td>0</td>\n",
              "      <td>27</td>\n",
              "      <td>57000</td>\n",
              "    </tr>\n",
              "    <tr>\n",
              "      <th>4</th>\n",
              "      <td>1</td>\n",
              "      <td>19</td>\n",
              "      <td>76000</td>\n",
              "    </tr>\n",
              "  </tbody>\n",
              "</table>\n",
              "</div>"
            ],
            "text/plain": [
              "   Gender  Age  EstimatedSalary\n",
              "0       1   19            19000\n",
              "1       1   35            20000\n",
              "2       0   26            43000\n",
              "3       0   27            57000\n",
              "4       1   19            76000"
            ]
          },
          "execution_count": 29,
          "metadata": {},
          "output_type": "execute_result"
        }
      ],
      "source": [
        "# label_encoder object knows how to understand word labels.\n",
        "label_encoder = preprocessing.LabelEncoder()\n",
        "  \n",
        "# Encode labels in column 'Gender'.\n",
        "x_usr_data['Gender']= label_encoder.fit_transform(x_usr_data['Gender'])\n",
        "x_usr_data.head()"
      ]
    },
    {
      "cell_type": "code",
      "execution_count": null,
      "id": "8f8409ea",
      "metadata": {
        "id": "8f8409ea",
        "outputId": "3b462590-7e48-4cf6-b270-7f0fd4460f44"
      },
      "outputs": [
        {
          "data": {
            "text/plain": [
              "array([[ 1.02020406, -1.78179743, -1.49004624],\n",
              "       [ 1.02020406, -0.25358736, -1.46068138],\n",
              "       [-0.98019606, -1.11320552, -0.78528968],\n",
              "       ...,\n",
              "       [-0.98019606,  1.17910958, -1.46068138],\n",
              "       [ 1.02020406, -0.15807423, -1.07893824],\n",
              "       [-0.98019606,  1.08359645, -0.99084367]])"
            ]
          },
          "execution_count": 30,
          "metadata": {},
          "output_type": "execute_result"
        }
      ],
      "source": [
        "sc = StandardScaler()\n",
        "x_usr_data = sc.fit_transform(x_usr_data)\n",
        "# type(x_data)\n",
        "x_usr_data"
      ]
    },
    {
      "cell_type": "markdown",
      "id": "cb4b1ed7",
      "metadata": {
        "id": "cb4b1ed7"
      },
      "source": [
        "#### Splitting data into training and testing"
      ]
    },
    {
      "cell_type": "code",
      "execution_count": null,
      "id": "1bafecf6",
      "metadata": {
        "id": "1bafecf6"
      },
      "outputs": [],
      "source": [
        "x_usr_train, x_usr_test, y_usr_train, y_usr_test = train_test_split(x_usr_data, y_usr_data, test_size=0.2, random_state=42)"
      ]
    },
    {
      "cell_type": "markdown",
      "id": "2bbf420a",
      "metadata": {
        "id": "2bbf420a"
      },
      "source": [
        "### Logistic Regression\n",
        "\n",
        "##### Mathematical Intuition:\n",
        "##### The cost function of linear regression (or mean square error) can’t be used in logistic regression because it is a non-convex function of weights. Optimizing algorithms like i.e gradient descent only converge convex function into a global minimum. \n",
        "\n",
        "##### So, the simplified cost function we use :\n",
        "\n",
        "![](https://miro.medium.com/max/1400/1*cMEoGURM8nMlJxfaaJyMJQ.webp)\n",
        "\n",
        "#### where, a is our sigmoid function, given as\n",
        "\n",
        "![](https://miro.medium.com/max/1400/1*j5I3bB2x25TunkpT_SnygA.webp)\n",
        "\n",
        "#### which further is a function of w, x\n",
        "\n",
        "![](https://miro.medium.com/max/1400/1*_ciSO6w0rGsQrGtGsf-3fA.webp)\n",
        "\n",
        "### Derivative of Loss Function\n",
        "\n",
        "#### Using chain rule, we can calculate the derivative of loss fn. wrt the weights w and bias b\n",
        "\n",
        "![](https://miro.medium.com/max/1400/1*-GZkwi2FHC4KWHgXCeIpyA.webp)\n",
        "\n",
        "#### which is\n",
        "\n",
        "![image.png](attachment:image.png)"
      ]
    },
    {
      "cell_type": "code",
      "execution_count": null,
      "id": "e4d21d78",
      "metadata": {
        "id": "e4d21d78"
      },
      "outputs": [],
      "source": [
        "class MyLogitRegression() :\n",
        "    def __init__(self, learning_rate=0.01, iterations=100000) :        \n",
        "        self.learning_rate = learning_rate        \n",
        "        self.iterations = iterations\n",
        "        self.W, self.b = None, None\n",
        "\n",
        "    # Function for model training    \n",
        "    def fit( self, X, Y):    \n",
        "\n",
        "        # no_of_training_examples, no_of_features        \n",
        "        self.m, self.n = X.shape   \n",
        "        # weight initialization        \n",
        "        self.W = np.zeros(self.n)        \n",
        "        self.b = 0        \n",
        "        self.X = X        \n",
        "        self.Y = Y\n",
        "\n",
        "        # gradient descent learning        \n",
        "        for i in range(self.iterations) :    \n",
        "            # sigmoid(z) = 1 / ( 1 + e^(-z) )\n",
        "            Z = 1 / ( 1 + np.exp( - ( self.X.dot( self.W ) + self.b ) ) )\n",
        "\n",
        "            # calculate gradients        \n",
        "            Z = ( Z - self.Y.T )\n",
        "            Z = np.reshape( Z, self.m )        \n",
        "\n",
        "            dW = np.dot( self.X.T, Z ) / self.m         \n",
        "            db = np.sum( Z ) / self.m \n",
        "\n",
        "            # update weights    \n",
        "            self.W = self.W - self.learning_rate * dW    \n",
        "            self.b = self.b - self.learning_rate * db    \n",
        "        return self\n",
        "\n",
        "    # h(x) = sigmoid(wx + b)\n",
        "    def predict( self, X ) :    \n",
        "        h_x = 1 / ( 1 + np.exp( - ( X.dot( self.W ) + self.b ) ) )        \n",
        "        Y = np.where( h_x > 0.5, 1, 0 )        \n",
        "        return Y"
      ]
    },
    {
      "cell_type": "code",
      "execution_count": null,
      "id": "7689ab3d",
      "metadata": {
        "id": "7689ab3d"
      },
      "outputs": [],
      "source": [
        "LogitModel = MyLogitRegression()\n",
        "\n",
        "LogitModel.fit(x_usr_train, y_usr_train)\n",
        "preds = LogitModel.predict(x_usr_test)"
      ]
    },
    {
      "cell_type": "code",
      "execution_count": null,
      "id": "1215863f",
      "metadata": {
        "scrolled": false,
        "id": "1215863f",
        "outputId": "ffca35c2-184a-43df-c6ad-ae938a100800"
      },
      "outputs": [
        {
          "name": "stdout",
          "output_type": "stream",
          "text": [
            "The coefficients and loss after optimization are:\n",
            "weights: [0.15774554 2.21191841 1.22287573]\n",
            "bias: -1.120723501577897\n",
            "Loss: 4.054911006275679\n"
          ]
        }
      ],
      "source": [
        "print('The coefficients and loss after optimization are:')\n",
        "print(f'weights: {LogitModel.W}')\n",
        "print(f'bias: {LogitModel.b}')\n",
        "\n",
        "print(f'Loss: {log_loss(preds, y_usr_test)}')"
      ]
    },
    {
      "cell_type": "code",
      "execution_count": null,
      "id": "a91e1ff4",
      "metadata": {
        "id": "a91e1ff4",
        "outputId": "97068628-74bb-45d5-919b-541596be32e3"
      },
      "outputs": [
        {
          "data": {
            "text/plain": [
              "(80,)"
            ]
          },
          "execution_count": 35,
          "metadata": {},
          "output_type": "execute_result"
        }
      ],
      "source": [
        "y_usr_test.shape"
      ]
    },
    {
      "cell_type": "code",
      "execution_count": null,
      "id": "04b2e75c",
      "metadata": {
        "id": "04b2e75c"
      },
      "outputs": [],
      "source": [
        "LRModel = LogisticRegression()\n",
        "LRModel.fit(x_usr_data, y_usr_data)\n",
        "LRPreds = LogitModel.predict(x_usr_test)"
      ]
    },
    {
      "cell_type": "code",
      "execution_count": null,
      "id": "e8d36a4b",
      "metadata": {
        "id": "e8d36a4b",
        "outputId": "a7bd67dc-3fd1-487f-b46b-48f662433ea6"
      },
      "outputs": [
        {
          "name": "stdout",
          "output_type": "stream",
          "text": [
            "The coefficients and loss on using sklearn library\n",
            "weights: [[0.14612452 2.29205004 1.14743324]]\n",
            "bias: [-1.09886666]\n",
            "BCE: 4.054911006275679\n"
          ]
        }
      ],
      "source": [
        "print('The coefficients and loss on using sklearn library')\n",
        "print(f'weights: {LRModel.coef_}')\n",
        "print(f'bias: {LRModel.intercept_}')\n",
        "\n",
        "print(f'BCE: {log_loss(preds, y_usr_test)}')"
      ]
    },
    {
      "cell_type": "markdown",
      "id": "9566c1c5",
      "metadata": {
        "id": "9566c1c5"
      },
      "source": [
        "### Analysis\n",
        "\n",
        "#### When comparing the result obtained by our Regression model with standard model, we noticed that the result that we got were very close to the actual data. Also, the BCE error that we got were very close"
      ]
    },
    {
      "cell_type": "code",
      "execution_count": null,
      "id": "4dedc7fa",
      "metadata": {
        "scrolled": true,
        "id": "4dedc7fa",
        "outputId": "52a796af-72bb-4b35-a372-a2c21ff8b131"
      },
      "outputs": [
        {
          "data": {
            "text/plain": [
              "<AxesSubplot: >"
            ]
          },
          "execution_count": 38,
          "metadata": {},
          "output_type": "execute_result"
        },
        {
          "data": {
            "image/png": "[encoded data removed]",
            "text/plain": [
              "<Figure size 640x480 with 2 Axes>"
            ]
          },
          "metadata": {},
          "output_type": "display_data"
        }
      ],
      "source": [
        "cf_matrix = confusion_matrix(y_usr_test, preds)\n",
        "sb.heatmap(cf_matrix/np.sum(cf_matrix), annot=True,fmt='.2%')"
      ]
    }
  ],
  "metadata": {
    "kernelspec": {
      "display_name": "tensorflow_env",
      "language": "python",
      "name": "tensorflow_env"
    },
    "language_info": {
      "codemirror_mode": {
        "name": "ipython",
        "version": 3
      },
      "file_extension": ".py",
      "mimetype": "text/x-python",
      "name": "python",
      "nbconvert_exporter": "python",
      "pygments_lexer": "ipython3",
      "version": "3.10.9"
    },
    "colab": {
      "provenance": []
    }
  },
  "nbformat": 4,
  "nbformat_minor": 5
}